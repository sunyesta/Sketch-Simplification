{
 "cells": [
  {
   "cell_type": "code",
   "execution_count": 1,
   "metadata": {},
   "outputs": [],
   "source": [
    "import os\n",
    "from PIL import Image\n",
    "import json\n",
    "import torch\n",
    "\n",
    "\n",
    "class ImageJSONDataset(torch.utils.data.Dataset):\n",
    "    \"\"\"\n",
    "    Custom PyTorch dataset for image and JSON pairs.\n",
    "\n",
    "    Args:\n",
    "        root_dir (str): Path to the root directory containing image folders.\n",
    "        transform (callable, optional): A function/transform to apply to the image.\n",
    "    \"\"\"\n",
    "\n",
    "    def __init__(self, root_dir, transform=None):\n",
    "        self.root_dir = root_dir\n",
    "        self.image_dirs = [\n",
    "            os.path.join(root_dir, img_folder)\n",
    "            for img_folder in os.listdir(root_dir)\n",
    "            if os.path.isdir(os.path.join(root_dir, img_folder))\n",
    "        ]\n",
    "        self.transform = transform\n",
    "\n",
    "    def __len__(self):\n",
    "        # Count the total number of images (one per folder)\n",
    "        return len(self.image_dirs)\n",
    "\n",
    "    def __getitem__(self, idx):\n",
    "        image_dir = self.image_dirs[idx]\n",
    "        image_path = os.path.join(image_dir, image_dir.split(\"/\")[-1] + \".png\")\n",
    "\n",
    "        # Load image\n",
    "        image = Image.open(image_path).convert(\"RGB\")  # Assuming RGB images\n",
    "\n",
    "        # Load JSON files from offsets directory\n",
    "        offsets_dir = os.path.join(image_dir, \"offsets\")\n",
    "        json_files = [\n",
    "            os.path.join(offsets_dir, f)\n",
    "            for f in os.listdir(offsets_dir)\n",
    "            if f.endswith(\".json\")\n",
    "        ]\n",
    "        offsets = []\n",
    "        for json_file in json_files:\n",
    "            with open(json_file, \"r\") as f:\n",
    "                offsets.append(json.load(f))\n",
    "\n",
    "        # Apply transformations if provided\n",
    "        if self.transform:\n",
    "            image = self.transform(image)\n",
    "\n",
    "        # Return image and offsets as a tuple\n",
    "        return image, offsets"
   ]
  }
 ],
 "metadata": {
  "kernelspec": {
   "display_name": "sketch_simplification",
   "language": "python",
   "name": "python3"
  },
  "language_info": {
   "codemirror_mode": {
    "name": "ipython",
    "version": 3
   },
   "file_extension": ".py",
   "mimetype": "text/x-python",
   "name": "python",
   "nbconvert_exporter": "python",
   "pygments_lexer": "ipython3",
   "version": "3.10.13"
  }
 },
 "nbformat": 4,
 "nbformat_minor": 2
}
